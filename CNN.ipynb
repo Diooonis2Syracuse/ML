{
  "nbformat": 4,
  "nbformat_minor": 0,
  "metadata": {
    "colab": {
      "provenance": [],
      "authorship_tag": "ABX9TyMrkSg3fmD6PF+CB36m2eYl",
      "include_colab_link": true
    },
    "kernelspec": {
      "name": "python3",
      "display_name": "Python 3"
    },
    "language_info": {
      "name": "python"
    }
  },
  "cells": [
    {
      "cell_type": "markdown",
      "metadata": {
        "id": "view-in-github",
        "colab_type": "text"
      },
      "source": [
        "<a href=\"https://colab.research.google.com/github/Diooonis2Syracuse/ML/blob/main/CNN.ipynb\" target=\"_parent\"><img src=\"https://colab.research.google.com/assets/colab-badge.svg\" alt=\"Open In Colab\"/></a>"
      ]
    },
    {
      "cell_type": "code",
      "execution_count": null,
      "metadata": {
        "colab": {
          "base_uri": "https://localhost:8080/"
        },
        "id": "4Dh3mIG9FaFH",
        "outputId": "b56cfdc4-a44f-497f-fd6d-698bbc3a550b"
      },
      "outputs": [
        {
          "output_type": "stream",
          "name": "stdout",
          "text": [
            "Requirement already satisfied: torch in /usr/local/lib/python3.10/dist-packages (2.4.1+cu121)\n",
            "Requirement already satisfied: filelock in /usr/local/lib/python3.10/dist-packages (from torch) (3.16.1)\n",
            "Requirement already satisfied: typing-extensions>=4.8.0 in /usr/local/lib/python3.10/dist-packages (from torch) (4.12.2)\n",
            "Requirement already satisfied: sympy in /usr/local/lib/python3.10/dist-packages (from torch) (1.13.3)\n",
            "Requirement already satisfied: networkx in /usr/local/lib/python3.10/dist-packages (from torch) (3.3)\n",
            "Requirement already satisfied: jinja2 in /usr/local/lib/python3.10/dist-packages (from torch) (3.1.4)\n",
            "Requirement already satisfied: fsspec in /usr/local/lib/python3.10/dist-packages (from torch) (2024.6.1)\n",
            "Requirement already satisfied: MarkupSafe>=2.0 in /usr/local/lib/python3.10/dist-packages (from jinja2->torch) (2.1.5)\n",
            "Requirement already satisfied: mpmath<1.4,>=1.1.0 in /usr/local/lib/python3.10/dist-packages (from sympy->torch) (1.3.0)\n"
          ]
        }
      ],
      "source": [
        "import pandas as pd\n",
        "%pip install torch\n",
        "import torch\n",
        "import torch.nn as nn\n",
        "import numpy as np"
      ]
    },
    {
      "cell_type": "code",
      "source": [
        "import torchvision\n",
        "from torchvision import transforms\n",
        "image_path = './'\n",
        "transform = transforms.Compose([\n",
        "    transforms.ToTensor()\n",
        "    ])\n",
        "\n",
        "mnist_dataset = torchvision.datasets.MNIST(root=image_path,\n",
        "                                           train=True,\n",
        "                                           transform=transform,\n",
        "                                           download=True\n",
        "                                           )\n",
        "\n",
        "from torch.utils.data import Subset\n",
        "\n",
        "mnist_valid_dataset = Subset(mnist_dataset,\n",
        "                             torch.arange(10000))\n",
        "\n",
        "mnist_train_dataset = Subset(mnist_dataset,\n",
        "                             torch.arange(10000, len(mnist_dataset))\n",
        "                             )\n",
        "\n",
        "mnist_test_dataset = torchvision.datasets.MNIST(root=image_path,\n",
        "                                           train=False,\n",
        "                                           transform=transform,\n",
        "                                           download=False\n",
        "                                           )"
      ],
      "metadata": {
        "colab": {
          "base_uri": "https://localhost:8080/"
        },
        "id": "YjBlAx-WPkpK",
        "outputId": "bc3dea72-6844-45b6-bc9f-cca0089db967"
      },
      "execution_count": null,
      "outputs": [
        {
          "output_type": "stream",
          "name": "stdout",
          "text": [
            "Downloading http://yann.lecun.com/exdb/mnist/train-images-idx3-ubyte.gz\n",
            "Failed to download (trying next):\n",
            "HTTP Error 403: Forbidden\n",
            "\n",
            "Downloading https://ossci-datasets.s3.amazonaws.com/mnist/train-images-idx3-ubyte.gz\n",
            "Downloading https://ossci-datasets.s3.amazonaws.com/mnist/train-images-idx3-ubyte.gz to ./MNIST/raw/train-images-idx3-ubyte.gz\n"
          ]
        },
        {
          "output_type": "stream",
          "name": "stderr",
          "text": [
            "100%|██████████| 9912422/9912422 [00:00<00:00, 150390343.51it/s]\n"
          ]
        },
        {
          "output_type": "stream",
          "name": "stdout",
          "text": [
            "Extracting ./MNIST/raw/train-images-idx3-ubyte.gz to ./MNIST/raw\n",
            "\n",
            "Downloading http://yann.lecun.com/exdb/mnist/train-labels-idx1-ubyte.gz\n",
            "Failed to download (trying next):\n",
            "HTTP Error 403: Forbidden\n",
            "\n",
            "Downloading https://ossci-datasets.s3.amazonaws.com/mnist/train-labels-idx1-ubyte.gz\n",
            "Downloading https://ossci-datasets.s3.amazonaws.com/mnist/train-labels-idx1-ubyte.gz to ./MNIST/raw/train-labels-idx1-ubyte.gz\n"
          ]
        },
        {
          "output_type": "stream",
          "name": "stderr",
          "text": [
            "100%|██████████| 28881/28881 [00:00<00:00, 48590330.45it/s]"
          ]
        },
        {
          "output_type": "stream",
          "name": "stdout",
          "text": [
            "Extracting ./MNIST/raw/train-labels-idx1-ubyte.gz to ./MNIST/raw\n",
            "\n",
            "Downloading http://yann.lecun.com/exdb/mnist/t10k-images-idx3-ubyte.gz\n"
          ]
        },
        {
          "output_type": "stream",
          "name": "stderr",
          "text": [
            "\n"
          ]
        },
        {
          "output_type": "stream",
          "name": "stdout",
          "text": [
            "Failed to download (trying next):\n",
            "HTTP Error 403: Forbidden\n",
            "\n",
            "Downloading https://ossci-datasets.s3.amazonaws.com/mnist/t10k-images-idx3-ubyte.gz\n",
            "Downloading https://ossci-datasets.s3.amazonaws.com/mnist/t10k-images-idx3-ubyte.gz to ./MNIST/raw/t10k-images-idx3-ubyte.gz\n"
          ]
        },
        {
          "output_type": "stream",
          "name": "stderr",
          "text": [
            "100%|██████████| 1648877/1648877 [00:00<00:00, 66347122.90it/s]"
          ]
        },
        {
          "output_type": "stream",
          "name": "stdout",
          "text": [
            "Extracting ./MNIST/raw/t10k-images-idx3-ubyte.gz to ./MNIST/raw\n"
          ]
        },
        {
          "output_type": "stream",
          "name": "stderr",
          "text": [
            "\n"
          ]
        },
        {
          "output_type": "stream",
          "name": "stdout",
          "text": [
            "\n",
            "Downloading http://yann.lecun.com/exdb/mnist/t10k-labels-idx1-ubyte.gz\n",
            "Failed to download (trying next):\n",
            "HTTP Error 403: Forbidden\n",
            "\n",
            "Downloading https://ossci-datasets.s3.amazonaws.com/mnist/t10k-labels-idx1-ubyte.gz\n",
            "Downloading https://ossci-datasets.s3.amazonaws.com/mnist/t10k-labels-idx1-ubyte.gz to ./MNIST/raw/t10k-labels-idx1-ubyte.gz\n"
          ]
        },
        {
          "output_type": "stream",
          "name": "stderr",
          "text": [
            "100%|██████████| 4542/4542 [00:00<00:00, 9611770.32it/s]"
          ]
        },
        {
          "output_type": "stream",
          "name": "stdout",
          "text": [
            "Extracting ./MNIST/raw/t10k-labels-idx1-ubyte.gz to ./MNIST/raw\n",
            "\n"
          ]
        },
        {
          "output_type": "stream",
          "name": "stderr",
          "text": [
            "\n"
          ]
        }
      ]
    },
    {
      "cell_type": "code",
      "source": [
        "from torch.utils.data import DataLoader\n",
        "batch_size = 64\n",
        "torch.manual_seed(1)\n",
        "\n",
        "train_dl = DataLoader(mnist_train_dataset,\n",
        "                      batch_size,\n",
        "                      shuffle=True)\n",
        "valid_dl = DataLoader(mnist_valid_dataset,\n",
        "                      batch_size,\n",
        "                      shuffle=True)"
      ],
      "metadata": {
        "id": "WZUsWtCLPwVD"
      },
      "execution_count": null,
      "outputs": []
    },
    {
      "cell_type": "code",
      "source": [
        "model = nn.Sequential()\n",
        "model.add_module('conv1',\n",
        "                 nn.Conv2d(\n",
        "                     in_channels=1, out_channels=32,\n",
        "                     kernel_size=5, padding=2)\n",
        "                 )\n",
        "model.add_module('relu1', nn.ReLU())\n",
        "model.add_module('pool1', nn.MaxPool2d(kernel_size=2))\n",
        "model.add_module('conv2',\n",
        "                 nn.Conv2d(in_channels=32, out_channels=64,\n",
        "                           kernel_size=5, padding=2)\n",
        "                 )\n",
        "model.add_module('relu2', nn.ReLU())\n",
        "model.add_module('pool2', nn.MaxPool2d(kernel_size=2))\n",
        "\n",
        "model.add_module('flatten', nn.Flatten())\n",
        "\n",
        "model.add_module('fc1', nn.Linear(3136, 1024))\n",
        "model.add_module('relu3', nn.ReLU())\n",
        "model.add_module('dropout', nn.Dropout(p=0.5))\n",
        "model.add_module('fc2', nn.Linear(1024, 10))"
      ],
      "metadata": {
        "id": "-tmVxYcH6BYU"
      },
      "execution_count": null,
      "outputs": []
    },
    {
      "cell_type": "code",
      "source": [
        "model"
      ],
      "metadata": {
        "colab": {
          "base_uri": "https://localhost:8080/"
        },
        "id": "egDUX11_9BjA",
        "outputId": "958aa5e3-b64f-487c-891a-a9cb663e078d"
      },
      "execution_count": null,
      "outputs": [
        {
          "output_type": "execute_result",
          "data": {
            "text/plain": [
              "Sequential(\n",
              "  (conv1): Conv2d(1, 32, kernel_size=(5, 5), stride=(1, 1), padding=(2, 2))\n",
              "  (relu1): ReLU()\n",
              "  (pool1): MaxPool2d(kernel_size=2, stride=2, padding=0, dilation=1, ceil_mode=False)\n",
              "  (conv2): Conv2d(32, 64, kernel_size=(5, 5), stride=(1, 1), padding=(2, 2))\n",
              "  (relu2): ReLU()\n",
              "  (pool2): MaxPool2d(kernel_size=2, stride=2, padding=0, dilation=1, ceil_mode=False)\n",
              "  (flatten): Flatten(start_dim=1, end_dim=-1)\n",
              "  (fc1): Linear(in_features=3136, out_features=1024, bias=True)\n",
              "  (relu3): ReLU()\n",
              "  (dropout): Dropout(p=0.5, inplace=False)\n",
              "  (fc2): Linear(in_features=1024, out_features=10, bias=True)\n",
              ")"
            ]
          },
          "metadata": {},
          "execution_count": 5
        }
      ]
    },
    {
      "cell_type": "code",
      "source": [
        "loss_fn = nn.CrossEntropyLoss()\n",
        "optimazer = torch.optim.Adam(model.parameters(), lr=0.001)"
      ],
      "metadata": {
        "id": "K0mjoSYw9NvA"
      },
      "execution_count": null,
      "outputs": []
    },
    {
      "cell_type": "code",
      "source": [
        "def train(model, num_epochs, train_dl, valid_dl):\n",
        "  loss_hist_train = [0] * num_epochs\n",
        "  accuracy_hist_train = [0] * num_epochs\n",
        "  loss_hist_valid = [0] * num_epochs\n",
        "  accuracy_hist_valid = [0] * num_epochs\n",
        "\n",
        "  for epoch in range(num_epochs):\n",
        "    model.train()\n",
        "    for x_batch, y_batch in train_dl:\n",
        "      pred = model(x_batch)\n",
        "      loss = loss_fn(pred, y_batch)\n",
        "      loss.backward()\n",
        "      optimazer.step()\n",
        "      optimazer.zero_grad()\n",
        "      loss_hist_train[epoch] = loss_hist_train[epoch] + loss.item() * y_batch.size(0)\n",
        "      is_correct = (torch.argmax(pred, dim=1) == y_batch).float()\n",
        "      accuracy_hist_train[epoch] = accuracy_hist_train[epoch] + is_correct.sum()\n",
        "\n",
        "    loss_hist_train[epoch] = loss_hist_train[epoch]/len(train_dl.dataset)\n",
        "    accuracy_hist_train[epoch] = accuracy_hist_train[epoch]/len(train_dl.dataset)\n",
        "\n",
        "    model.eval()\n",
        "    with torch.no_grad():\n",
        "      for x_batch, y_batch in valid_dl:\n",
        "        pred = model(x_batch)\n",
        "        loss = loss_fn(pred, y_batch)\n",
        "        loss_hist_valid[epoch] = loss_hist_valid[epoch] + loss.item() * y_batch.size(0)\n",
        "        is_correct = (torch.argmax(pred, dim=1) == y_batch).float()\n",
        "        accuracy_hist_valid[epoch] = accuracy_hist_valid[epoch] + is_correct.sum()\n",
        "\n",
        "    loss_hist_valid[epoch] = loss_hist_valid[epoch] / len(valid_dl.dataset)\n",
        "    accuracy_hist_valid[epoch] = accuracy_hist_valid[epoch] / len(valid_dl.dataset)\n",
        "\n",
        "    print(f'Точность эпохи {epoch +1}:'\n",
        "          f'{accuracy_hist_train[epoch]:.4f} val_accuracy:'\n",
        "          f'{accuracy_hist_valid[epoch]:.4f}')\n",
        "  return loss_hist_train, loss_hist_valid, accuracy_hist_train, accuracy_hist_valid"
      ],
      "metadata": {
        "id": "jlp0j4Of_Xj4"
      },
      "execution_count": null,
      "outputs": []
    },
    {
      "cell_type": "code",
      "source": [
        "torch.manual_seed(1)\n",
        "num_epochs = 20\n",
        "hist = train(model, num_epochs, train_dl, valid_dl)"
      ],
      "metadata": {
        "id": "asAUIEZDAjNz",
        "colab": {
          "base_uri": "https://localhost:8080/"
        },
        "outputId": "c940e324-df0d-40b6-8362-daed73af3c33"
      },
      "execution_count": null,
      "outputs": [
        {
          "output_type": "stream",
          "name": "stdout",
          "text": [
            "Точность эпохи 1:0.9725 val_accuracy:0.9814\n",
            "Точность эпохи 2:0.9848 val_accuracy:0.9877\n",
            "Точность эпохи 3:0.9892 val_accuracy:0.9887\n",
            "Точность эпохи 4:0.9917 val_accuracy:0.9874\n",
            "Точность эпохи 5:0.9932 val_accuracy:0.9891\n",
            "Точность эпохи 6:0.9949 val_accuracy:0.9902\n",
            "Точность эпохи 7:0.9949 val_accuracy:0.9907\n",
            "Точность эпохи 8:0.9961 val_accuracy:0.9901\n",
            "Точность эпохи 9:0.9960 val_accuracy:0.9909\n",
            "Точность эпохи 10:0.9967 val_accuracy:0.9909\n",
            "Точность эпохи 11:0.9968 val_accuracy:0.9892\n",
            "Точность эпохи 12:0.9974 val_accuracy:0.9911\n",
            "Точность эпохи 13:0.9978 val_accuracy:0.9914\n",
            "Точность эпохи 14:0.9976 val_accuracy:0.9897\n",
            "Точность эпохи 15:0.9970 val_accuracy:0.9894\n",
            "Точность эпохи 16:0.9980 val_accuracy:0.9903\n",
            "Точность эпохи 17:0.9985 val_accuracy:0.9907\n",
            "Точность эпохи 18:0.9981 val_accuracy:0.9887\n",
            "Точность эпохи 19:0.9982 val_accuracy:0.9901\n",
            "Точность эпохи 20:0.9984 val_accuracy:0.9905\n"
          ]
        },
        {
          "output_type": "execute_result",
          "data": {
            "text/plain": [
              "([0.0882371062618494,\n",
              "  0.04730720713421702,\n",
              "  0.03411389607708901,\n",
              "  0.025528604662325233,\n",
              "  0.021716197602236642,\n",
              "  0.0165023057138687,\n",
              "  0.015643613930549426,\n",
              "  0.011610090701035497,\n",
              "  0.01255876785994129,\n",
              "  0.01032725062551588,\n",
              "  0.009584582094332,\n",
              "  0.008156965940237206,\n",
              "  0.006915506733695184,\n",
              "  0.007321487053096721,\n",
              "  0.008927498331076407,\n",
              "  0.005891857123817153,\n",
              "  0.005576912495697361,\n",
              "  0.005895226613018485,\n",
              "  0.007311772083033184,\n",
              "  0.005135086527624572],\n",
              " [0.05909077031351626,\n",
              "  0.03923694217652082,\n",
              "  0.039730981132667514,\n",
              "  0.04110037376619875,\n",
              "  0.040291618224140256,\n",
              "  0.04019515080556739,\n",
              "  0.040218639341494056,\n",
              "  0.03929333222032583,\n",
              "  0.03661107099449728,\n",
              "  0.04374711890520593,\n",
              "  0.04562113742052461,\n",
              "  0.041390672050845026,\n",
              "  0.05120430311461778,\n",
              "  0.060920678308043805,\n",
              "  0.05582455277484405,\n",
              "  0.06184263156649081,\n",
              "  0.06188923011611099,\n",
              "  0.06820789397303349,\n",
              "  0.06805102658168669,\n",
              "  0.06285693832663944],\n",
              " [tensor(0.9725),\n",
              "  tensor(0.9848),\n",
              "  tensor(0.9892),\n",
              "  tensor(0.9917),\n",
              "  tensor(0.9932),\n",
              "  tensor(0.9949),\n",
              "  tensor(0.9949),\n",
              "  tensor(0.9961),\n",
              "  tensor(0.9960),\n",
              "  tensor(0.9967),\n",
              "  tensor(0.9968),\n",
              "  tensor(0.9974),\n",
              "  tensor(0.9978),\n",
              "  tensor(0.9976),\n",
              "  tensor(0.9970),\n",
              "  tensor(0.9980),\n",
              "  tensor(0.9985),\n",
              "  tensor(0.9981),\n",
              "  tensor(0.9982),\n",
              "  tensor(0.9984)],\n",
              " [tensor(0.9814),\n",
              "  tensor(0.9877),\n",
              "  tensor(0.9887),\n",
              "  tensor(0.9874),\n",
              "  tensor(0.9891),\n",
              "  tensor(0.9902),\n",
              "  tensor(0.9907),\n",
              "  tensor(0.9901),\n",
              "  tensor(0.9909),\n",
              "  tensor(0.9909),\n",
              "  tensor(0.9892),\n",
              "  tensor(0.9911),\n",
              "  tensor(0.9914),\n",
              "  tensor(0.9897),\n",
              "  tensor(0.9894),\n",
              "  tensor(0.9903),\n",
              "  tensor(0.9907),\n",
              "  tensor(0.9887),\n",
              "  tensor(0.9901),\n",
              "  tensor(0.9905)])"
            ]
          },
          "metadata": {},
          "execution_count": 10
        }
      ]
    },
    {
      "cell_type": "code",
      "source": [],
      "metadata": {
        "id": "3DLtUbZKLZz7"
      },
      "execution_count": null,
      "outputs": []
    }
  ]
}
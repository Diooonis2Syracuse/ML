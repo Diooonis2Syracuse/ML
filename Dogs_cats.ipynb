{
  "nbformat": 4,
  "nbformat_minor": 0,
  "metadata": {
    "colab": {
      "provenance": [],
      "gpuType": "T4",
      "authorship_tag": "ABX9TyOi+x+mjpyEtWm1zOEk0QqJ",
      "include_colab_link": true
    },
    "kernelspec": {
      "name": "python3",
      "display_name": "Python 3"
    },
    "language_info": {
      "name": "python"
    },
    "accelerator": "GPU"
  },
  "cells": [
    {
      "cell_type": "markdown",
      "metadata": {
        "id": "view-in-github",
        "colab_type": "text"
      },
      "source": [
        "<a href=\"https://colab.research.google.com/github/Diooonis2Syracuse/ML/blob/main/Dogs_cats.ipynb\" target=\"_parent\"><img src=\"https://colab.research.google.com/assets/colab-badge.svg\" alt=\"Open In Colab\"/></a>"
      ]
    },
    {
      "cell_type": "code",
      "execution_count": null,
      "metadata": {
        "id": "-3ElDd06WiTy"
      },
      "outputs": [],
      "source": [
        "import pandas as pd\n",
        "import numpy as np\n",
        "import torch\n",
        "import torch.nn as nn\n",
        "import torchvision as tv\n",
        "import cv2\n",
        "import os\n",
        "import matplotlib.pyplot as plt\n",
        "from torch.utils.data import DataLoader, TensorDataset\n",
        "from tqdm import tqdm\n",
        "import torch.nn.functional as F"
      ]
    },
    {
      "cell_type": "code",
      "source": [
        "!unzip /content/training_set.zip\n",
        "!unzip /content/test_set.zip"
      ],
      "metadata": {
        "id": "wxjAQnvj6JW1"
      },
      "execution_count": null,
      "outputs": []
    },
    {
      "cell_type": "code",
      "source": [
        "class Dataset(torch.utils.data.Dataset):\n",
        "  def __init__(self, path_dir1:str, path_dir2:str):\n",
        "    super().__init__()\n",
        "\n",
        "    self.path_dir1 = path_dir1\n",
        "    self.path_dir2 = path_dir2\n",
        "\n",
        "    self.list_dir1_sort = sorted(os.listdir(path_dir1))\n",
        "    self.list_dir2_sort = sorted(os.listdir(path_dir2))\n",
        "\n",
        "  def __len__(self):\n",
        "    return len(self.list_dir1_sort) + len(self.list_dir2_sort)\n",
        "\n",
        "  def __getitem__(self, idx):\n",
        "\n",
        "    if idx < len(self.list_dir1_sort):\n",
        "      id_class = 0\n",
        "      img_path = os.path.join(self.path_dir1,  self.list_dir1_sort[idx])\n",
        "    else:\n",
        "      id_class = 1\n",
        "      idx -= len(self.list_dir1_sort)\n",
        "      img_path = os.path.join(self.path_dir2,  self.list_dir2_sort[idx])\n",
        "\n",
        "    img = cv2.imread(img_path, cv2.IMREAD_COLOR)\n",
        "    img = cv2.cvtColor(img, cv2.COLOR_BGR2RGB)\n",
        "    img = img.astype(np.float32)\n",
        "    img = img/255.0\n",
        "\n",
        "    img = cv2.resize(img, (224, 224), interpolation=cv2.INTER_AREA)\n",
        "    img = img.transpose((2, 0, 1))\n",
        "\n",
        "    t_img = torch.from_numpy(img)\n",
        "    t_id_class = torch.tensor([id_class])\n",
        "\n",
        "    return {'img': t_img, 'label': t_id_class}"
      ],
      "metadata": {
        "id": "ee2kMCEMXi3j"
      },
      "execution_count": null,
      "outputs": []
    },
    {
      "cell_type": "code",
      "source": [
        "train_dogs = '/content/training_set/dogs'\n",
        "train_cats = '/content/training_set/cats'\n",
        "test_dogs = '/content/test_set/dogs'\n",
        "test_cats = '/content/test_set/cats'\n",
        "\n",
        "dataset_train = Dataset(train_dogs, train_cats)\n",
        "dataset_test = Dataset(test_dogs, test_cats)"
      ],
      "metadata": {
        "id": "sdr5F6iQn7rH"
      },
      "execution_count": null,
      "outputs": []
    },
    {
      "cell_type": "code",
      "source": [
        "print(len(dataset_train))\n",
        "print(len(dataset_test))"
      ],
      "metadata": {
        "id": "2NezVeCotNkZ",
        "colab": {
          "base_uri": "https://localhost:8080/"
        },
        "outputId": "8d6f37fd-4640-45de-8674-6ad6fe62220d"
      },
      "execution_count": null,
      "outputs": [
        {
          "output_type": "stream",
          "name": "stdout",
          "text": [
            "8005\n",
            "2023\n"
          ]
        }
      ]
    },
    {
      "cell_type": "code",
      "source": [
        "batch_size = 4\n",
        "\n",
        "train_dl = DataLoader(dataset_train,\n",
        "                      batch_size=batch_size,\n",
        "                      shuffle=True,\n",
        "                      drop_last=True\n",
        "                      )\n",
        "test_dl = DataLoader(dataset_test,\n",
        "                     batch_size=batch_size,\n",
        "                     shuffle=True,\n",
        "                     drop_last=False\n",
        "                     )"
      ],
      "metadata": {
        "id": "g7Z9q43YLsxc"
      },
      "execution_count": null,
      "outputs": []
    },
    {
      "cell_type": "code",
      "source": [
        "class VGG16(nn.Module):\n",
        "  def __init__(self, out_nc):\n",
        "    super().__init__()\n",
        "\n",
        "    self.conv1_1 = nn.Conv2d(3, 64, kernel_size=3, padding=1)\n",
        "    self.conv1_2 = nn.Conv2d(64, 64, kernel_size=3, padding=1)\n",
        "\n",
        "    self.conv2_1 = nn.Conv2d(64, 128, kernel_size=3, padding=1)\n",
        "    self.conv2_2 = nn.Conv2d(128, 128, kernel_size=3, padding=1)\n",
        "\n",
        "    self.conv3_1 = nn.Conv2d(128, 256, kernel_size=3, padding=1)\n",
        "    self.conv3_2 = nn.Conv2d(256, 256, kernel_size=3, padding=1)\n",
        "    self.conv3_3 = nn.Conv2d(256, 256, kernel_size=3, padding=1)\n",
        "\n",
        "    self.conv4_1 = nn.Conv2d(256, 512, kernel_size=3, padding=1)\n",
        "    self.conv4_2 = nn.Conv2d(512, 512, kernel_size=3, padding=1)\n",
        "    self.conv4_3 = nn.Conv2d(512, 512, kernel_size=3, padding=1)\n",
        "\n",
        "    self.conv5_1 = nn.Conv2d(512, 512, kernel_size=3, padding=1)\n",
        "    self.conv5_2 = nn.Conv2d(512, 512, kernel_size=3, padding=1)\n",
        "    self.conv5_3 = nn.Conv2d(512, 512, kernel_size=3, padding=1)\n",
        "\n",
        "    self.activ = nn.ReLU(inplace=True)\n",
        "    self.maxpool = nn.MaxPool2d(2, 2)\n",
        "\n",
        "    self.flatten = nn.Flatten()\n",
        "\n",
        "    self.fc1 = nn.Linear(7*7*512, 4096)\n",
        "    self.fc2 = nn.Linear(4096, 4096)\n",
        "    self.fc3 = nn.Linear(4096, out_nc)\n",
        "\n",
        "  def forward(self, x):\n",
        "    out = self.conv1_1(x)\n",
        "    out = self.activ(out)\n",
        "    out = self.conv1_2(out)\n",
        "    out = self.activ(out)\n",
        "\n",
        "    out = self.maxpool(out)\n",
        "\n",
        "    out = self.conv2_1(out)\n",
        "    out = self.activ(out)\n",
        "    out = self.conv2_2(out)\n",
        "    out = self.activ(out)\n",
        "\n",
        "    out = self.maxpool(out)\n",
        "\n",
        "    out = self.conv3_1(out)\n",
        "    out = self.activ(out)\n",
        "    out = self.conv3_2(out)\n",
        "    out = self.activ(out)\n",
        "    out = self.conv3_3(out)\n",
        "    out = self.activ(out)\n",
        "\n",
        "    out = self.maxpool(out)\n",
        "\n",
        "    out = self.conv4_1(out)\n",
        "    out = self.activ(out)\n",
        "    out = self.conv4_2(out)\n",
        "    out = self.activ(out)\n",
        "    out = self.conv4_3(out)\n",
        "    out = self.activ(out)\n",
        "\n",
        "    out = self.maxpool(out)\n",
        "\n",
        "    out = self.conv5_1(out)\n",
        "    out = self.activ(out)\n",
        "    out = self.conv5_2(out)\n",
        "    out = self.activ(out)\n",
        "    out = self.conv5_3(out)\n",
        "    out = self.activ(out)\n",
        "\n",
        "    out = self.maxpool(out)\n",
        "\n",
        "    out = self.flatten(out)\n",
        "    out = self.fc1(out)\n",
        "    out = self.activ(out)\n",
        "    out = self.fc2(out)\n",
        "    out = self.activ(out)\n",
        "    out = self.fc3(out)\n",
        "\n",
        "    return out"
      ],
      "metadata": {
        "id": "SeL-jqeCPVRK"
      },
      "execution_count": null,
      "outputs": []
    },
    {
      "cell_type": "code",
      "source": [
        "model = VGG16(1)"
      ],
      "metadata": {
        "id": "aulCFwVsPWNd"
      },
      "execution_count": null,
      "outputs": []
    },
    {
      "cell_type": "code",
      "source": [
        "model"
      ],
      "metadata": {
        "colab": {
          "base_uri": "https://localhost:8080/"
        },
        "id": "-hGEu0hqZ49Q",
        "outputId": "431f25be-5de2-46c3-ea1d-ecaaa2866cdb"
      },
      "execution_count": null,
      "outputs": [
        {
          "output_type": "execute_result",
          "data": {
            "text/plain": [
              "VGG16(\n",
              "  (conv1_1): Conv2d(3, 64, kernel_size=(3, 3), stride=(1, 1), padding=(1, 1))\n",
              "  (conv1_2): Conv2d(64, 64, kernel_size=(3, 3), stride=(1, 1), padding=(1, 1))\n",
              "  (conv2_1): Conv2d(64, 128, kernel_size=(3, 3), stride=(1, 1), padding=(1, 1))\n",
              "  (conv2_2): Conv2d(128, 128, kernel_size=(3, 3), stride=(1, 1), padding=(1, 1))\n",
              "  (conv3_1): Conv2d(128, 256, kernel_size=(3, 3), stride=(1, 1), padding=(1, 1))\n",
              "  (conv3_2): Conv2d(256, 256, kernel_size=(3, 3), stride=(1, 1), padding=(1, 1))\n",
              "  (conv3_3): Conv2d(256, 256, kernel_size=(3, 3), stride=(1, 1), padding=(1, 1))\n",
              "  (conv4_1): Conv2d(256, 512, kernel_size=(3, 3), stride=(1, 1), padding=(1, 1))\n",
              "  (conv4_2): Conv2d(512, 512, kernel_size=(3, 3), stride=(1, 1), padding=(1, 1))\n",
              "  (conv4_3): Conv2d(512, 512, kernel_size=(3, 3), stride=(1, 1), padding=(1, 1))\n",
              "  (conv5_1): Conv2d(512, 512, kernel_size=(3, 3), stride=(1, 1), padding=(1, 1))\n",
              "  (conv5_2): Conv2d(512, 512, kernel_size=(3, 3), stride=(1, 1), padding=(1, 1))\n",
              "  (conv5_3): Conv2d(512, 512, kernel_size=(3, 3), stride=(1, 1), padding=(1, 1))\n",
              "  (activ): ReLU(inplace=True)\n",
              "  (maxpool): MaxPool2d(kernel_size=2, stride=2, padding=0, dilation=1, ceil_mode=False)\n",
              "  (flatten): Flatten(start_dim=1, end_dim=-1)\n",
              "  (fc1): Linear(in_features=25088, out_features=4096, bias=True)\n",
              "  (fc2): Linear(in_features=4096, out_features=4096, bias=True)\n",
              "  (fc3): Linear(in_features=4096, out_features=1, bias=True)\n",
              ")"
            ]
          },
          "metadata": {},
          "execution_count": 16
        }
      ]
    },
    {
      "cell_type": "code",
      "source": [
        "def accuracy(pred, label):\n",
        "  answer = (F.sigmoid(pred.detach().cpu()).numpy() > 0.5) == (label.cpu().numpy() > 0.5)\n",
        "  return answer.mean()"
      ],
      "metadata": {
        "id": "AyxaHwJPcWO2"
      },
      "execution_count": null,
      "outputs": []
    },
    {
      "cell_type": "code",
      "source": [
        "for sample in train_dl:\n",
        "  img = sample['img']\n",
        "  label = sample['label']\n",
        "  model(img)\n",
        "  break"
      ],
      "metadata": {
        "id": "WKav--6ccZm7"
      },
      "execution_count": null,
      "outputs": []
    },
    {
      "cell_type": "code",
      "source": [
        "def count_parameters(model):\n",
        "  return sum(p.numel() for p in model.parameters() if p.requires_grad)\n",
        "\n",
        "print(count_parameters(model))"
      ],
      "metadata": {
        "colab": {
          "base_uri": "https://localhost:8080/"
        },
        "id": "HLt0VK_UiRlQ",
        "outputId": "77cfa4c9-6f1e-4ab7-f5f1-265495f68bf2"
      },
      "execution_count": null,
      "outputs": [
        {
          "output_type": "stream",
          "name": "stdout",
          "text": [
            "134264641\n"
          ]
        }
      ]
    },
    {
      "cell_type": "code",
      "source": [
        "loss_fn = nn.BCEWithLogitsLoss()\n",
        "optimizer = torch.optim.Adam(model.parameters(), lr=0.001, betas=(0.9, 0.999))"
      ],
      "metadata": {
        "id": "otZv04OygRY0"
      },
      "execution_count": null,
      "outputs": []
    },
    {
      "cell_type": "code",
      "source": [
        "num_epochs = 10\n",
        "torch.manual_seed(1)\n",
        "\n",
        "for epoch in range(num_epochs):\n",
        "  accurace_train = 0\n",
        "\n",
        "  for sample in (pbar := tqdm(train_dl)):\n",
        "    x_batch, y_batch = sample['img'], sample['label'].float()\n",
        "    pred = model(x_batch)\n",
        "    loss = loss_fn(pred, y_batch)\n",
        "    optimizer.zero_grad()\n",
        "    loss.backward()\n",
        "    loss_item = loss.item()\n",
        "    pbar.set_description(f'Loss: {loss_item:.4f}')\n",
        "    optimizer.step()\n",
        "    is_correct = ((pred>=0.5).float() == y_batch).float()\n",
        "    accurace_train += is_correct.sum()\n",
        "  accurace_train /= len(train_dl.dataset)\n",
        "  print(f'Эпоха {epoch + 1} - Точность {accurace_train * 100:.4f}%')"
      ],
      "metadata": {
        "id": "-tWNudnWhXFp"
      },
      "execution_count": null,
      "outputs": []
    },
    {
      "cell_type": "code",
      "source": [
        "torch.manual_seed(1)\n",
        "accuracy_test = 0\n",
        "with torch.no_grad():\n",
        "  for sample in tqdm(test_dl):\n",
        "    x_batch, y_batch = sample['img'], sample['label'].float()\n",
        "    pred = model(x_batch)\n",
        "    is_correct_test = (torch.argmax(pred, dim=1) == y_batch).float()\n",
        "    accuracy_test += is_correct_test.sum()\n",
        "accuracy_test /= len(test_dl.dataset)\n",
        "print(f'Точность при тестировании: {accuracy_test * 100:.4f}%')"
      ],
      "metadata": {
        "colab": {
          "base_uri": "https://localhost:8080/"
        },
        "id": "4_fNPxKFkkCQ",
        "outputId": "13556ae0-741a-4aab-c5c2-cd6cd099c692"
      },
      "execution_count": null,
      "outputs": [
        {
          "output_type": "stream",
          "name": "stderr",
          "text": [
            "100%|██████████| 64/64 [00:12<00:00,  5.05it/s]"
          ]
        },
        {
          "output_type": "stream",
          "name": "stdout",
          "text": [
            "Точность при тестировании: 83.0944%\n"
          ]
        },
        {
          "output_type": "stream",
          "name": "stderr",
          "text": [
            "\n"
          ]
        }
      ]
    },
    {
      "cell_type": "code",
      "source": [],
      "metadata": {
        "id": "MGqCvycRmSVf"
      },
      "execution_count": null,
      "outputs": []
    },
    {
      "cell_type": "code",
      "source": [],
      "metadata": {
        "id": "JDoLjnQdnjdi"
      },
      "execution_count": null,
      "outputs": []
    }
  ]
}
{
  "nbformat": 4,
  "nbformat_minor": 0,
  "metadata": {
    "colab": {
      "provenance": [],
      "authorship_tag": "ABX9TyN7vUnjzQVFwKe3VNktT6dt",
      "include_colab_link": true
    },
    "kernelspec": {
      "name": "python3",
      "display_name": "Python 3"
    },
    "language_info": {
      "name": "python"
    }
  },
  "cells": [
    {
      "cell_type": "markdown",
      "metadata": {
        "id": "view-in-github",
        "colab_type": "text"
      },
      "source": [
        "<a href=\"https://colab.research.google.com/github/Diooonis2Syracuse/ML/blob/main/MNIST_Ckass.ipynb\" target=\"_parent\"><img src=\"https://colab.research.google.com/assets/colab-badge.svg\" alt=\"Open In Colab\"/></a>"
      ]
    },
    {
      "cell_type": "code",
      "source": [
        "!git remote add origin https://github.com/Diooonis2Syracuse/ML-DL.git\n",
        "!git branch -M main\n",
        "!git push -u origin main"
      ],
      "metadata": {
        "colab": {
          "base_uri": "https://localhost:8080/"
        },
        "id": "3WW6uMiRW8xb",
        "outputId": "de83333f-034d-4a2a-9fb9-3116f9b401a0"
      },
      "execution_count": 4,
      "outputs": [
        {
          "output_type": "stream",
          "name": "stdout",
          "text": [
            "fatal: not a git repository (or any of the parent directories): .git\n",
            "fatal: not a git repository (or any of the parent directories): .git\n",
            "fatal: not a git repository (or any of the parent directories): .git\n"
          ]
        }
      ]
    },
    {
      "cell_type": "code",
      "execution_count": null,
      "metadata": {
        "colab": {
          "base_uri": "https://localhost:8080/"
        },
        "id": "CfkKrFi4_j6R",
        "outputId": "47217ebb-e349-43d0-b69f-202dc22c1399"
      },
      "outputs": [
        {
          "output_type": "stream",
          "name": "stdout",
          "text": [
            "Requirement already satisfied: torch in /usr/local/lib/python3.10/dist-packages (2.4.1+cu121)\n",
            "Requirement already satisfied: filelock in /usr/local/lib/python3.10/dist-packages (from torch) (3.16.1)\n",
            "Requirement already satisfied: typing-extensions>=4.8.0 in /usr/local/lib/python3.10/dist-packages (from torch) (4.12.2)\n",
            "Requirement already satisfied: sympy in /usr/local/lib/python3.10/dist-packages (from torch) (1.13.3)\n",
            "Requirement already satisfied: networkx in /usr/local/lib/python3.10/dist-packages (from torch) (3.3)\n",
            "Requirement already satisfied: jinja2 in /usr/local/lib/python3.10/dist-packages (from torch) (3.1.4)\n",
            "Requirement already satisfied: fsspec in /usr/local/lib/python3.10/dist-packages (from torch) (2024.6.1)\n",
            "Requirement already satisfied: MarkupSafe>=2.0 in /usr/local/lib/python3.10/dist-packages (from jinja2->torch) (2.1.5)\n",
            "Requirement already satisfied: mpmath<1.4,>=1.1.0 in /usr/local/lib/python3.10/dist-packages (from sympy->torch) (1.3.0)\n"
          ]
        }
      ],
      "source": [
        "import pandas as pd\n",
        "import numpy as np\n",
        "%pip install torch\n",
        "import torch\n",
        "import torchvision as tv\n",
        "from torch.utils.data import DataLoader\n",
        "from torch.utils.data import TensorDataset\n",
        "from tqdm import tqdm\n",
        "import torch.nn as nn\n",
        "import cv2\n",
        "import os\n",
        "import matplotlib.pyplot as plt"
      ]
    },
    {
      "cell_type": "code",
      "source": [
        "transforms = tv.transforms.Compose([\n",
        "    tv.transforms.ToTensor()\n",
        "    ])"
      ],
      "metadata": {
        "id": "O9vRllb-9fGK"
      },
      "execution_count": null,
      "outputs": []
    },
    {
      "cell_type": "code",
      "source": [
        "df_train = tv.datasets.MNIST(\n",
        "    '/content/sample_data',\n",
        "    train=True,\n",
        "    transform=transforms,\n",
        "    download=True\n",
        "    )\n",
        "df_test = tv.datasets.MNIST(\n",
        "    '/content/sample_data',\n",
        "    train=False,\n",
        "    transform=transforms,\n",
        "    download=True\n",
        "    )"
      ],
      "metadata": {
        "id": "xglhCknOcq4U"
      },
      "execution_count": null,
      "outputs": []
    },
    {
      "cell_type": "code",
      "source": [
        "batch_size = 64\n",
        "torch.manual_seed(1)\n",
        "train_dl = DataLoader(df_train, batch_size, shuffle=True)\n",
        "test_dl = DataLoader(df_test, batch_size, shuffle=True)"
      ],
      "metadata": {
        "id": "3WW1X9BRdhL0"
      },
      "execution_count": null,
      "outputs": []
    },
    {
      "cell_type": "code",
      "source": [
        "class model(nn.Module):\n",
        "  def __init__(self):\n",
        "    super().__init__()\n",
        "\n",
        "    self.flat = nn.Flatten()\n",
        "    self.linear1 = nn.Linear(28*28, 32)\n",
        "    self.linear2 = nn.Linear(32, 16)\n",
        "    self.linear3 = nn.Linear(16, 10)\n",
        "    self.activ = nn.ReLU()\n",
        "\n",
        "  def forward(self, x):\n",
        "\n",
        "    out = self.flat(x)\n",
        "    out = self.linear1(out)\n",
        "    out = self.activ(out)\n",
        "    out = self.linear2(out)\n",
        "    out = self.activ(out)\n",
        "    out = self.linear3(out)\n",
        "\n",
        "    return out"
      ],
      "metadata": {
        "id": "auJL1t5Eeafb"
      },
      "execution_count": null,
      "outputs": []
    },
    {
      "cell_type": "code",
      "source": [
        "model = model()"
      ],
      "metadata": {
        "id": "2lpvpSEa_P51"
      },
      "execution_count": null,
      "outputs": []
    },
    {
      "cell_type": "code",
      "source": [
        "loss_fn = nn.CrossEntropyLoss()\n",
        "optimazer = torch.optim.Adam(model.parameters(), lr=0.001)\n",
        "torch.manual_seed(1)\n",
        "num_epochs = 20\n",
        "\n",
        "for epoch in range(num_epochs):\n",
        "  accurace_train = 0\n",
        "\n",
        "  for x_batch, y_batch in (pbar := tqdm(train_dl)):\n",
        "    pred = model(x_batch)\n",
        "    loss = loss_fn(pred, y_batch)\n",
        "    optimazer.zero_grad()\n",
        "    loss.backward()\n",
        "    loss_item = loss.item()\n",
        "    optimazer.step()\n",
        "    pbar.set_description(f'Loss: {loss_item:.4f}')\n",
        "    is_correct = (torch.argmax(pred, dim=1) == y_batch).float()\n",
        "    accurace_train = accurace_train + is_correct.sum()\n",
        "\n",
        "  accurace_train  = accurace_train / len(train_dl.dataset)\n",
        "  print(f'Эпоха {epoch + 1} - Точность {accurace_train * 100:.4f}%')"
      ],
      "metadata": {
        "colab": {
          "base_uri": "https://localhost:8080/"
        },
        "id": "4rdmFJItwLRz",
        "outputId": "32f2d9c6-7dfd-41f6-e803-4c9f2bcf4807"
      },
      "execution_count": null,
      "outputs": [
        {
          "output_type": "stream",
          "name": "stderr",
          "text": [
            "Loss: 0.1436: 100%|██████████| 938/938 [00:15<00:00, 60.02it/s]\n"
          ]
        },
        {
          "output_type": "stream",
          "name": "stdout",
          "text": [
            "Эпоха 1 - Точность 85.3117%\n"
          ]
        },
        {
          "output_type": "stream",
          "name": "stderr",
          "text": [
            "Loss: 0.0327: 100%|██████████| 938/938 [00:16<00:00, 57.62it/s]\n"
          ]
        },
        {
          "output_type": "stream",
          "name": "stdout",
          "text": [
            "Эпоха 2 - Точность 92.8733%\n"
          ]
        },
        {
          "output_type": "stream",
          "name": "stderr",
          "text": [
            "Loss: 0.0468: 100%|██████████| 938/938 [00:15<00:00, 60.09it/s]\n"
          ]
        },
        {
          "output_type": "stream",
          "name": "stdout",
          "text": [
            "Эпоха 3 - Точность 94.1350%\n"
          ]
        },
        {
          "output_type": "stream",
          "name": "stderr",
          "text": [
            "Loss: 0.1672: 100%|██████████| 938/938 [00:15<00:00, 60.14it/s]\n"
          ]
        },
        {
          "output_type": "stream",
          "name": "stdout",
          "text": [
            "Эпоха 4 - Точность 95.0633%\n"
          ]
        },
        {
          "output_type": "stream",
          "name": "stderr",
          "text": [
            "Loss: 0.1400: 100%|██████████| 938/938 [00:15<00:00, 59.62it/s]\n"
          ]
        },
        {
          "output_type": "stream",
          "name": "stdout",
          "text": [
            "Эпоха 5 - Точность 95.5783%\n"
          ]
        },
        {
          "output_type": "stream",
          "name": "stderr",
          "text": [
            "Loss: 0.2395: 100%|██████████| 938/938 [00:15<00:00, 59.98it/s]\n"
          ]
        },
        {
          "output_type": "stream",
          "name": "stdout",
          "text": [
            "Эпоха 6 - Точность 95.9233%\n"
          ]
        },
        {
          "output_type": "stream",
          "name": "stderr",
          "text": [
            "Loss: 0.0812: 100%|██████████| 938/938 [00:15<00:00, 59.36it/s]\n"
          ]
        },
        {
          "output_type": "stream",
          "name": "stdout",
          "text": [
            "Эпоха 7 - Точность 96.2667%\n"
          ]
        },
        {
          "output_type": "stream",
          "name": "stderr",
          "text": [
            "Loss: 0.1490: 100%|██████████| 938/938 [00:16<00:00, 58.30it/s]\n"
          ]
        },
        {
          "output_type": "stream",
          "name": "stdout",
          "text": [
            "Эпоха 8 - Точность 96.4900%\n"
          ]
        },
        {
          "output_type": "stream",
          "name": "stderr",
          "text": [
            "Loss: 0.2247: 100%|██████████| 938/938 [00:16<00:00, 58.48it/s]\n"
          ]
        },
        {
          "output_type": "stream",
          "name": "stdout",
          "text": [
            "Эпоха 9 - Точность 96.7333%\n"
          ]
        },
        {
          "output_type": "stream",
          "name": "stderr",
          "text": [
            "Loss: 0.0656: 100%|██████████| 938/938 [00:15<00:00, 59.64it/s]\n"
          ]
        },
        {
          "output_type": "stream",
          "name": "stdout",
          "text": [
            "Эпоха 10 - Точность 96.8967%\n"
          ]
        },
        {
          "output_type": "stream",
          "name": "stderr",
          "text": [
            "Loss: 0.1334: 100%|██████████| 938/938 [00:15<00:00, 60.02it/s]\n"
          ]
        },
        {
          "output_type": "stream",
          "name": "stdout",
          "text": [
            "Эпоха 11 - Точность 97.1117%\n"
          ]
        },
        {
          "output_type": "stream",
          "name": "stderr",
          "text": [
            "Loss: 0.4179: 100%|██████████| 938/938 [00:15<00:00, 59.79it/s]\n"
          ]
        },
        {
          "output_type": "stream",
          "name": "stdout",
          "text": [
            "Эпоха 12 - Точность 97.2850%\n"
          ]
        },
        {
          "output_type": "stream",
          "name": "stderr",
          "text": [
            "Loss: 0.0515: 100%|██████████| 938/938 [00:15<00:00, 59.91it/s]\n"
          ]
        },
        {
          "output_type": "stream",
          "name": "stdout",
          "text": [
            "Эпоха 13 - Точность 97.3733%\n"
          ]
        },
        {
          "output_type": "stream",
          "name": "stderr",
          "text": [
            "Loss: 0.0266: 100%|██████████| 938/938 [00:16<00:00, 57.94it/s]\n"
          ]
        },
        {
          "output_type": "stream",
          "name": "stdout",
          "text": [
            "Эпоха 14 - Точность 97.4683%\n"
          ]
        },
        {
          "output_type": "stream",
          "name": "stderr",
          "text": [
            "Loss: 0.0919: 100%|██████████| 938/938 [00:16<00:00, 58.37it/s]\n"
          ]
        },
        {
          "output_type": "stream",
          "name": "stdout",
          "text": [
            "Эпоха 15 - Точность 97.6600%\n"
          ]
        },
        {
          "output_type": "stream",
          "name": "stderr",
          "text": [
            "Loss: 0.1295: 100%|██████████| 938/938 [00:15<00:00, 59.37it/s]\n"
          ]
        },
        {
          "output_type": "stream",
          "name": "stdout",
          "text": [
            "Эпоха 16 - Точность 97.7750%\n"
          ]
        },
        {
          "output_type": "stream",
          "name": "stderr",
          "text": [
            "Loss: 0.0426: 100%|██████████| 938/938 [00:15<00:00, 59.78it/s]\n"
          ]
        },
        {
          "output_type": "stream",
          "name": "stdout",
          "text": [
            "Эпоха 17 - Точность 97.7983%\n"
          ]
        },
        {
          "output_type": "stream",
          "name": "stderr",
          "text": [
            "Loss: 0.2898: 100%|██████████| 938/938 [00:15<00:00, 60.23it/s]\n"
          ]
        },
        {
          "output_type": "stream",
          "name": "stdout",
          "text": [
            "Эпоха 18 - Точность 97.9800%\n"
          ]
        },
        {
          "output_type": "stream",
          "name": "stderr",
          "text": [
            "Loss: 0.0220: 100%|██████████| 938/938 [00:15<00:00, 59.23it/s]\n"
          ]
        },
        {
          "output_type": "stream",
          "name": "stdout",
          "text": [
            "Эпоха 19 - Точность 98.0617%\n"
          ]
        },
        {
          "output_type": "stream",
          "name": "stderr",
          "text": [
            "Loss: 0.0629: 100%|██████████| 938/938 [00:15<00:00, 58.86it/s]"
          ]
        },
        {
          "output_type": "stream",
          "name": "stdout",
          "text": [
            "Эпоха 20 - Точность 98.1617%\n"
          ]
        },
        {
          "output_type": "stream",
          "name": "stderr",
          "text": [
            "\n"
          ]
        }
      ]
    },
    {
      "cell_type": "code",
      "source": [
        "for x_batch, y_batch in tqdm(test_dl):\n",
        "  pred = model(x_batch)\n",
        "  is_correct_test = (torch.argmax(pred, dim=1) == y_batch).float()\n",
        "print(f'Точность при тестировании: {is_correct_test.mean() * 100:.4f}%')"
      ],
      "metadata": {
        "colab": {
          "base_uri": "https://localhost:8080/"
        },
        "id": "wxnCD0bU4SsC",
        "outputId": "d400b0fd-ec9f-42ad-8edf-934036feb19f"
      },
      "execution_count": null,
      "outputs": [
        {
          "output_type": "stream",
          "name": "stderr",
          "text": [
            "100%|██████████| 157/157 [00:01<00:00, 123.44it/s]"
          ]
        },
        {
          "output_type": "stream",
          "name": "stdout",
          "text": [
            "Точность при тестировании: 100.0000%\n"
          ]
        },
        {
          "output_type": "stream",
          "name": "stderr",
          "text": [
            "\n"
          ]
        }
      ]
    },
    {
      "cell_type": "code",
      "source": [
        "img = df_test[0][0].numpy()[0]\n",
        "img = np.expand_dims(img, axis=0)\n",
        "img = np.expand_dims(img, axis=0)"
      ],
      "metadata": {
        "id": "XJGbpwbdPMMw"
      },
      "execution_count": null,
      "outputs": []
    },
    {
      "cell_type": "code",
      "source": [
        "img.shape"
      ],
      "metadata": {
        "colab": {
          "base_uri": "https://localhost:8080/"
        },
        "id": "8x33bGK6NSGZ",
        "outputId": "989592e2-1277-4f99-e018-188c1b21af3a"
      },
      "execution_count": null,
      "outputs": [
        {
          "output_type": "execute_result",
          "data": {
            "text/plain": [
              "(1, 1, 28, 28)"
            ]
          },
          "metadata": {},
          "execution_count": 81
        }
      ]
    },
    {
      "cell_type": "code",
      "source": [
        "t_img = torch.Tensor(img)\n",
        "vern = model(t_img)\n",
        "correct = (torch.argmax(vern, dim=1) == df_test[0][1]).float()\n",
        "print(correct)"
      ],
      "metadata": {
        "colab": {
          "base_uri": "https://localhost:8080/"
        },
        "id": "ZskGkKxeOM-i",
        "outputId": "7af16619-2851-4cb9-a0b6-e7ee6887e301"
      },
      "execution_count": null,
      "outputs": [
        {
          "output_type": "stream",
          "name": "stdout",
          "text": [
            "tensor([1.])\n"
          ]
        }
      ]
    },
    {
      "cell_type": "code",
      "source": [
        "import torch.nn.functional as F\n",
        "torch.argmax(F.softmax(vern).detach(), dim=1)"
      ],
      "metadata": {
        "colab": {
          "base_uri": "https://localhost:8080/"
        },
        "id": "a3OuWKnpQ9nl",
        "outputId": "25311714-663f-4ee7-8451-6ef50545c4d5"
      },
      "execution_count": null,
      "outputs": [
        {
          "output_type": "stream",
          "name": "stderr",
          "text": [
            "<ipython-input-97-ed2481787de8>:2: UserWarning: Implicit dimension choice for softmax has been deprecated. Change the call to include dim=X as an argument.\n",
            "  torch.argmax(F.softmax(vern).detach(), dim=1)\n"
          ]
        },
        {
          "output_type": "execute_result",
          "data": {
            "text/plain": [
              "tensor([7])"
            ]
          },
          "metadata": {},
          "execution_count": 97
        }
      ]
    },
    {
      "cell_type": "code",
      "source": [],
      "metadata": {
        "id": "mrqLSxWjSTUe"
      },
      "execution_count": null,
      "outputs": []
    }
  ]
}